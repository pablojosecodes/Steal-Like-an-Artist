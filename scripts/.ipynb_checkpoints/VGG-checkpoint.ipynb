{
 "cells": [
  {
   "cell_type": "markdown",
   "id": "0cad94ac",
   "metadata": {},
   "source": [
    "# VGG\n"
   ]
  },
  {
   "cell_type": "code",
   "execution_count": 4,
   "id": "635098fa",
   "metadata": {},
   "outputs": [],
   "source": [
    "from torchvision import models, transforms\n",
    "import torch.nn as nn\n",
    "import torch.nn.functional as F\n",
    "from torch import optim\n"
   ]
  },
  {
   "cell_type": "markdown",
   "id": "419182be",
   "metadata": {},
   "source": [
    "# The model"
   ]
  },
  {
   "cell_type": "code",
   "execution_count": 24,
   "id": "bf038d3d",
   "metadata": {},
   "outputs": [],
   "source": [
    "class VGG(nn.Module):\n",
    "    \n",
    "    # Note: layers = list of layers we want to get the features of\n",
    "    def __init__(self, layers):\n",
    "        super().__init__()\n",
    "        \n",
    "        # Sort just in case\n",
    "        layers = sorted(set(layers))\n",
    "        \n",
    "        self.layers = layers\n",
    "        \n",
    "        # ImageNet normalization\n",
    "        self.normalize = transforms.Normalize(mean=[0.485, 0.456, 0.406],\n",
    "                                              std=[0.229, 0.224, 0.225])\n",
    "\n",
    "        # Pretrained model- we only want the features and only those which include the layers we want \n",
    "        self.model = models.vgg19(pretrained=True).features[:layers[-1]+1]\n",
    "        self.model.eval()\n",
    "        self.model.requires_grad_(False)\n",
    "        \n",
    "        \n",
    "    def forward(self, input, layers=None):\n",
    "        # Sort or get default layer (for image)\n",
    "        layers = self.layers if layers is None else sorted(set(layers))\n",
    "        features = {}\n",
    "        \n",
    "        index = 0\n",
    "        \n",
    "        for l in layers:\n",
    "            # Efficient! Only get features from the layers we currently need\n",
    "            input = self.model[index:l+1](input)\n",
    "            index = l+1\n",
    "            features[l]=input\n",
    "        return features\n",
    "         "
   ]
  },
  {
   "cell_type": "code",
   "execution_count": 25,
   "id": "46ad60ce",
   "metadata": {},
   "outputs": [],
   "source": [
    "import torch\n",
    "import torchvision.transforms as transforms\n",
    "import torchvision.models as models\n",
    "from PIL import Image\n",
    "import requests\n",
    "from io import BytesIO\n",
    "\n",
    "# Assuming your VGG class is defined as above\n",
    "\n",
    "# Function to load and preprocess the image\n",
    "def load_image(url, size=224):\n",
    "    response = requests.get(url)\n",
    "    image = Image.open(BytesIO(response.content))\n",
    "    transform = transforms.Compose([\n",
    "        transforms.Resize((size, size)),\n",
    "        transforms.ToTensor(),\n",
    "    ])\n",
    "    image = transform(image).unsqueeze(0)\n",
    "    return image\n",
    "\n",
    "# URL of an example image\n",
    "image_url = \"https://static1.smartbear.co/smartbearbrand/media/images/home/sb-hero-bg-img.jpg\"\n",
    "\n",
    "# Load and preprocess the image\n",
    "input_image = load_image(image_url)\n",
    "\n",
    "# Instantiate the VGG class (for example, extracting features from layers 3, 8, 17, and 26)\n",
    "vgg = VGG(layers=[3, 8, 17, 26])\n",
    "\n",
    "\n",
    "    "
   ]
  },
  {
   "cell_type": "code",
   "execution_count": 26,
   "id": "0e60a12b",
   "metadata": {},
   "outputs": [
    {
     "name": "stdout",
     "output_type": "stream",
     "text": [
      "Layer 3: Feature Size: torch.Size([1, 64, 224, 224])\n",
      "Layer 8: Feature Size: torch.Size([1, 128, 112, 112])\n",
      "Layer 17: Feature Size: torch.Size([1, 256, 56, 56])\n",
      "Layer 26: Feature Size: torch.Size([1, 512, 28, 28])\n"
     ]
    }
   ],
   "source": [
    "# Get the features\n",
    "features = vgg(input_image)\n",
    "\n",
    "# Print or process the features as needed\n",
    "for layer, feature in features.items():\n",
    "    print(f\"Layer {layer}: Feature Size: {feature.size()}\")\n"
   ]
  },
  {
   "cell_type": "code",
   "execution_count": null,
   "id": "223488f3",
   "metadata": {},
   "outputs": [],
   "source": []
  }
 ],
 "metadata": {
  "kernelspec": {
   "display_name": "Python 3 (ipykernel)",
   "language": "python",
   "name": "python3"
  },
  "language_info": {
   "codemirror_mode": {
    "name": "ipython",
    "version": 3
   },
   "file_extension": ".py",
   "mimetype": "text/x-python",
   "name": "python",
   "nbconvert_exporter": "python",
   "pygments_lexer": "ipython3",
   "version": "3.11.7"
  }
 },
 "nbformat": 4,
 "nbformat_minor": 5
}
