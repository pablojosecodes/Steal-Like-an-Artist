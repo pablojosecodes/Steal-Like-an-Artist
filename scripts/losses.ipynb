{
 "cells": [
  {
   "cell_type": "code",
   "execution_count": 14,
   "id": "5bca4b48",
   "metadata": {},
   "outputs": [],
   "source": [
    "import torch\n",
    "import torch.nn as nn\n",
    "import torch.nn.functional as F\n"
   ]
  },
  {
   "cell_type": "markdown",
   "id": "9addc497",
   "metadata": {},
   "source": [
    "# Losses\n"
   ]
  },
  {
   "cell_type": "markdown",
   "id": "c7c4face",
   "metadata": {},
   "source": [
    "### Content Loss- Squared distance between feature representations, basically just nn.MSELoss but fit for my workflow"
   ]
  },
  {
   "cell_type": "code",
   "execution_count": 35,
   "id": "54572ee1",
   "metadata": {},
   "outputs": [],
   "source": [
    "class ContentLoss(nn.Module):\n",
    "    def __init__(self, target):\n",
    "        super().__init__()\n",
    "        self.register_buffer('target', target)\n",
    "\n",
    "    def forward(self, input):\n",
    "        return nn.MSELoss()(input, self.target)\n"
   ]
  },
  {
   "cell_type": "code",
   "execution_count": 44,
   "id": "b3095c14",
   "metadata": {},
   "outputs": [
    {
     "name": "stdout",
     "output_type": "stream",
     "text": [
      "Conent Loss: 1.3877025842666626\n"
     ]
    }
   ],
   "source": [
    "# Testing content Loss\n",
    "target_map = torch.randn(1, 3, 4, 4)\n",
    "pruning_map = torch.randn(1, 3, 4, 4)\n",
    "\n",
    "# Instantiate ContentLoss with the target feature map\n",
    "content_loss = ContentLoss(target_map)\n",
    "\n",
    "# Compute the cnotent loss for the generated image\n",
    "loss = content_loss(pruning_map)\n",
    "\n",
    "print(\"Conent Loss:\", loss.item())\n"
   ]
  },
  {
   "cell_type": "markdown",
   "id": "b5961a40",
   "metadata": {},
   "source": [
    "### Style Loss- Squared distance betwen Gram Matrices"
   ]
  },
  {
   "cell_type": "code",
   "execution_count": 22,
   "id": "77f33341",
   "metadata": {},
   "outputs": [],
   "source": [
    "# 4d Tensor -> Gram Matrix\n",
    "class GramMatrix(nn.Module):\n",
    "    def forward(self, v):\n",
    "        # Flatten\n",
    "        v_f = v.flatten(-2)\n",
    "        # Transpose (switch last two layers)\n",
    "        v_f_t = v_f.transpose(-2, -1)\n",
    "        # Matrix multiplication\n",
    "        v_mul = v_f @ v_f_t\n",
    "        # Normalize\n",
    "        gram = v_mul / (v_mul.shape[0] * v_mul.shape[1])\n",
    "        return gram\n",
    "\n",
    "class StyleLoss(nn.Module):\n",
    "    # Register target gram matrix for reuse\n",
    "    def __init__(self, target_gram, eps=1e-8):\n",
    "        super().__init__()\n",
    "        self.register_buffer('target_gram', target_gram)\n",
    "\n",
    "    # Forward pass- Gram Matrix distance\n",
    "    def forward(self, input):\n",
    "        return nn.MSELoss()(GramMatrix()(input), self.target_gram)\n",
    "\n",
    "    "
   ]
  },
  {
   "cell_type": "code",
   "execution_count": 45,
   "id": "3db9ac4c",
   "metadata": {},
   "outputs": [
    {
     "name": "stdout",
     "output_type": "stream",
     "text": [
      "Style Loss: 8.624126434326172\n"
     ]
    }
   ],
   "source": [
    "# Testing Style Loss\n",
    "style_feature_map = torch.randn(1, 3, 4, 4)\n",
    "generated_feature_map = torch.randn(1, 3, 4, 4)\n",
    "\n",
    "# Compute the target Gram matrix from the style image feature map\n",
    "target_gram = GramMatrix()(style_feature_map)\n",
    "\n",
    "# Instantiate StyleLoss with the target Gram matrix\n",
    "style_loss = StyleLoss(target_gram)\n",
    "\n",
    "# Compute the style loss for the generated image\n",
    "loss = style_loss(generated_feature_map)\n",
    "\n",
    "print(\"Style Loss:\", loss.item())\n",
    "\n"
   ]
  },
  {
   "cell_type": "markdown",
   "id": "3a473983",
   "metadata": {},
   "source": [
    "Content Loss"
   ]
  },
  {
   "cell_type": "code",
   "execution_count": 28,
   "id": "0f693998",
   "metadata": {},
   "outputs": [],
   "source": []
  },
  {
   "cell_type": "code",
   "execution_count": null,
   "id": "f03beee7",
   "metadata": {},
   "outputs": [],
   "source": []
  }
 ],
 "metadata": {
  "kernelspec": {
   "display_name": "Python 3 (ipykernel)",
   "language": "python",
   "name": "python3"
  },
  "language_info": {
   "codemirror_mode": {
    "name": "ipython",
    "version": 3
   },
   "file_extension": ".py",
   "mimetype": "text/x-python",
   "name": "python",
   "nbconvert_exporter": "python",
   "pygments_lexer": "ipython3",
   "version": "3.11.7"
  }
 },
 "nbformat": 4,
 "nbformat_minor": 5
}
