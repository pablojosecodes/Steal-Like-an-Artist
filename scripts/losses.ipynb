{
 "cells": [
  {
   "cell_type": "code",
   "execution_count": 2,
   "id": "5bca4b48",
   "metadata": {},
   "outputs": [],
   "source": [
    "import torch\n",
    "import torch.nn as nn\n",
    "import torch.nn.functional as F\n"
   ]
  },
  {
   "cell_type": "markdown",
   "id": "9addc497",
   "metadata": {},
   "source": [
    "# Losses\n"
   ]
  },
  {
   "cell_type": "markdown",
   "id": "c7c4face",
   "metadata": {},
   "source": [
    "### Content Loss- Squared distance between feature representations, basically just nn.MSELoss but fit for my workflow"
   ]
  },
  {
   "cell_type": "code",
   "execution_count": 6,
   "id": "54572ee1",
   "metadata": {},
   "outputs": [],
   "source": [
    "class ContentLoss(nn.Module):\n",
    "    def __init__(self, target):\n",
    "        super().__init__()\n",
    "        self.register_buffer('target', target)\n",
    "\n",
    "    def forward(self, input):\n",
    "        return nn.MSELoss()(input, self.target)\n"
   ]
  },
  {
   "cell_type": "code",
   "execution_count": 11,
   "id": "b3095c14",
   "metadata": {},
   "outputs": [
    {
     "name": "stdout",
     "output_type": "stream",
     "text": [
      "Conent Loss: 1.990310549736023\n"
     ]
    },
    {
     "data": {
      "text/plain": [
       "torch.Tensor"
      ]
     },
     "execution_count": 11,
     "metadata": {},
     "output_type": "execute_result"
    }
   ],
   "source": [
    "# Testing content Loss\n",
    "target_map = torch.randn(1, 3, 224, 224)\n",
    "pruning_map = torch.randn(1, 3, 224, 224)\n",
    "\n",
    "# Instantiate ContentLoss with the target feature map\n",
    "content_loss = ContentLoss(target_map)\n",
    "\n",
    "# Compute the cnotent loss for the generated image\n",
    "loss = content_loss(pruning_map)\n",
    "\n",
    "print(\"Conent Loss:\", loss.item())\n",
    "type(loss)"
   ]
  },
  {
   "cell_type": "markdown",
   "id": "b5961a40",
   "metadata": {},
   "source": [
    "### Style Loss- Squared distance betwen Gram Matrices"
   ]
  },
  {
   "cell_type": "code",
   "execution_count": 42,
   "id": "77f33341",
   "metadata": {},
   "outputs": [],
   "source": [
    "# 4d Tensor -> Gram Matrix\n",
    "class GramMatrix(nn.Module):\n",
    "    def forward(self, v):\n",
    "        # Flatten\n",
    "        v_f = v.flatten(-2)\n",
    "        # Transpose (switch last two layers)\n",
    "        v_f_t = v_f.transpose(-2, -1)\n",
    "        # Matrix multiplication\n",
    "        v_mul = v_f @ v_f_t\n",
    "        # Normalize\n",
    "        gram = v_mul / (v_mul.shape[0] * v_mul.shape[1])\n",
    "        return gram\n",
    "\n",
    "# class StyleLoss(nn.Module):\n",
    "#     # Register target gram matrix for reuse\n",
    "#     def __init__(self, target_gram, eps=1e-8):\n",
    "#         super().__init__()\n",
    "#         self.eps =eps\n",
    "#         self.register_buffer('target_gram', target_gram)\n",
    "                \n",
    "\n",
    "\n",
    "#     # Forward pass- Gram Matrix distance\n",
    "#     def forward(self, input):\n",
    "#         input_gram = GramMatrix()(input)\n",
    "\n",
    "#         # Calculate the number of elements in the input Gram matrix\n",
    "#         # Adding eps for numerical stability\n",
    "#         num_elements = input_gram.nelement() + self.eps\n",
    "#         print(num_elements)\n",
    "        \n",
    "        \n",
    "#         return nn.MSELoss()(input_gram, self.target_gram) / (input.shape[-1] * input.shape[-2])\n",
    "# Testing this new style loss\n",
    "class StyleLoss(nn.Module):\n",
    "    def __init__(self, target_gram):\n",
    "        super(StyleLoss, self).__init__()\n",
    "        self.target = target_gram\n",
    "\n",
    "    def forward(self, G, input):\n",
    "\n",
    "        self.loss = nn.functional.mse_loss(G, self.target, reduction='sum')\n",
    "        N = input.size(0)\n",
    "        M = input.size(1) * input.size(2)  # Height times width of the feature map.\n",
    "        self.loss /= (4 * (N ** 2) * (M ** 2))\n",
    "        return self.loss\n",
    "\n",
    "    "
   ]
  },
  {
   "cell_type": "code",
   "execution_count": 38,
   "id": "3db9ac4c",
   "metadata": {},
   "outputs": [
    {
     "name": "stdout",
     "output_type": "stream",
     "text": [
      "9.00000001\n",
      "Style Loss: 0.32466599345207214\n"
     ]
    }
   ],
   "source": [
    "# Testing Style Loss\n",
    "style_feature_map = torch.randn(1, 3, 224, 224)\n",
    "generated_feature_map = torch.randn(1, 3, 224, 224)\n",
    "\n",
    "# Compute the target Gram matrix from the style image feature map\n",
    "target_gram = GramMatrix()(style_feature_map)\n",
    "\n",
    "# Instantiate StyleLoss with the target Gram matrix\n",
    "style_loss = StyleLoss(target_gram)\n",
    "\n",
    "# Compute the style loss for the generated image\n",
    "loss = style_loss(generated_feature_map)\n",
    "\n",
    "print(\"Style Loss:\", loss.item())\n",
    "\n"
   ]
  },
  {
   "cell_type": "markdown",
   "id": "3a473983",
   "metadata": {},
   "source": [
    "Content Loss"
   ]
  },
  {
   "cell_type": "code",
   "execution_count": 14,
   "id": "0f693998",
   "metadata": {},
   "outputs": [
    {
     "data": {
      "text/plain": [
       "150528"
      ]
     },
     "execution_count": 14,
     "metadata": {},
     "output_type": "execute_result"
    }
   ],
   "source": [
    "import math\n",
    "\n",
    "math.prod(style_feature_map.shape)"
   ]
  },
  {
   "cell_type": "code",
   "execution_count": 15,
   "id": "f03beee7",
   "metadata": {},
   "outputs": [
    {
     "data": {
      "text/plain": [
       "150528"
      ]
     },
     "execution_count": 15,
     "metadata": {},
     "output_type": "execute_result"
    }
   ],
   "source": [
    "style_feature_map.nelement()"
   ]
  },
  {
   "cell_type": "markdown",
   "id": "9644a79e",
   "metadata": {},
   "source": [
    "# TV Loss"
   ]
  },
  {
   "cell_type": "code",
   "execution_count": 39,
   "id": "0660244b",
   "metadata": {},
   "outputs": [],
   "source": [
    "class TVLoss(nn.Module):\n",
    "    def forward(self, input):\n",
    "        x_diff = input[..., :-1, :-1] - input[..., :-1, 1:]\n",
    "        y_diff = input[..., :-1, :-1] - input[..., 1:, :-1]\n",
    "        diff = x_diff**2 + y_diff**2\n",
    "        return torch.sum(diff)\n"
   ]
  },
  {
   "cell_type": "code",
   "execution_count": null,
   "id": "8296a6d1",
   "metadata": {},
   "outputs": [],
   "source": []
  }
 ],
 "metadata": {
  "kernelspec": {
   "display_name": "Python 3 (ipykernel)",
   "language": "python",
   "name": "python3"
  },
  "language_info": {
   "codemirror_mode": {
    "name": "ipython",
    "version": 3
   },
   "file_extension": ".py",
   "mimetype": "text/x-python",
   "name": "python",
   "nbconvert_exporter": "python",
   "pygments_lexer": "ipython3",
   "version": "3.11.7"
  }
 },
 "nbformat": 4,
 "nbformat_minor": 5
}
